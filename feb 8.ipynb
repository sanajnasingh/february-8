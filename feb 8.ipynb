{
 "cells": [
  {
   "cell_type": "code",
   "execution_count": null,
   "id": "0ebba0f7-5834-45ae-9207-e65f96d4ae63",
   "metadata": {},
   "outputs": [],
   "source": [
    "ans 1\n",
    "Abstraction is the process of hiding the internal details of an application from the outer world. Abstraction is used to describe things in\n",
    "simple terms. for example\n",
    "you can start a car by turning the key or pressing the start button. You don't need to know how the engine is getting started,\n",
    "what all components your car has. The car internal implementation and complex logic is completely hidden from the user."
   ]
  },
  {
   "cell_type": "code",
   "execution_count": null,
   "id": "d9f2da3a-0769-4be9-bdbd-abc55b1e2474",
   "metadata": {},
   "outputs": [],
   "source": [
    "ans 2\n",
    "Abstraction is a method of removing the unnecessary details in the code and focusing on the relevant parts. For example, instead of writing a \n",
    "function that multiplies two numbers,we can write a function “multiply” and use it to multiply any number with any number.\n",
    "\n",
    "Encapsulation is a way of hiding the complexity of something and exposing only the parts you wish to expose. For example, if you\n",
    "have a class that has one or more private fields that you use to store the data, then you are in encapsulation"
   ]
  },
  {
   "cell_type": "code",
   "execution_count": null,
   "id": "4cd2041a-c222-43ea-a668-2d053d9e533a",
   "metadata": {},
   "outputs": [],
   "source": [
    "ans 3\n",
    "The 'abc' module in Python library provides the infrastructure for defining custom abstract base classes. 'abc' works by\n",
    "marking methods of the base class as abstract.This is done by @absttractmethod decorator."
   ]
  },
  {
   "cell_type": "code",
   "execution_count": null,
   "id": "87ce6c58-9b65-454e-89e7-05c186a5b4d2",
   "metadata": {},
   "outputs": [],
   "source": [
    "ans 4\n",
    "An abstraction can be achieved using classes.\n",
    "A class is used to group all the data members and member functions into a single unit by using the access specifiers."
   ]
  },
  {
   "cell_type": "code",
   "execution_count": null,
   "id": "86d636b9-e519-4343-9251-3400073be1e8",
   "metadata": {},
   "outputs": [],
   "source": [
    "ans 5\n",
    "Abstract classes cannot be instantiated, but they can be subclassed."
   ]
  }
 ],
 "metadata": {
  "kernelspec": {
   "display_name": "Python 3 (ipykernel)",
   "language": "python",
   "name": "python3"
  },
  "language_info": {
   "codemirror_mode": {
    "name": "ipython",
    "version": 3
   },
   "file_extension": ".py",
   "mimetype": "text/x-python",
   "name": "python",
   "nbconvert_exporter": "python",
   "pygments_lexer": "ipython3",
   "version": "3.10.8"
  }
 },
 "nbformat": 4,
 "nbformat_minor": 5
}
